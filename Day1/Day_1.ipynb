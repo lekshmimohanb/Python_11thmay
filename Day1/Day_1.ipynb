{
  "nbformat": 4,
  "nbformat_minor": 0,
  "metadata": {
    "colab": {
      "provenance": [],
      "authorship_tag": "ABX9TyPfgxktS1OuXXgCZi3dQqDD",
      "include_colab_link": true
    },
    "kernelspec": {
      "name": "python3",
      "display_name": "Python 3"
    },
    "language_info": {
      "name": "python"
    }
  },
  "cells": [
    {
      "cell_type": "markdown",
      "metadata": {
        "id": "view-in-github",
        "colab_type": "text"
      },
      "source": [
        "<a href=\"https://colab.research.google.com/github/lekshmimohanb/Python_11thmay/blob/main/Day1/Day_1.ipynb\" target=\"_parent\"><img src=\"https://colab.research.google.com/assets/colab-badge.svg\" alt=\"Open In Colab\"/></a>"
      ]
    },
    {
      "cell_type": "markdown",
      "source": [
        "Python Day 1 Basics"
      ],
      "metadata": {
        "id": "9NSxdCSP_9cS"
      }
    },
    {
      "cell_type": "code",
      "source": [
        "print(\"Welcome to my first python code\")\n"
      ],
      "metadata": {
        "colab": {
          "base_uri": "https://localhost:8080/"
        },
        "id": "86_AvGRjCVpD",
        "outputId": "a804b567-a9e8-4774-d6c1-de8ee5f1aff2"
      },
      "execution_count": 1,
      "outputs": [
        {
          "output_type": "stream",
          "name": "stdout",
          "text": [
            "Welcome to my first python code\n"
          ]
        }
      ]
    },
    {
      "cell_type": "code",
      "source": [],
      "metadata": {
        "id": "yDyWYNzHC8Iy"
      },
      "execution_count": null,
      "outputs": []
    }
  ]
}